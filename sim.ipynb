{
  "cells": [
    {
      "cell_type": "code",
      "execution_count": null,
      "metadata": {},
      "outputs": [],
      "source": [
        "import doctest\n",
        "import json\n",
        "from functools import reduce\n",
        "from operator import __or__\n",
        "from random import random"
      ]
    },
    {
      "cell_type": "code",
      "execution_count": null,
      "metadata": {},
      "outputs": [],
      "source": [
        "# MODELING & SIMULATION\n",
        "\n",
        "init = {\n",
        "    'Planet': {'time': 0, 'timeStep': 0.01, 'x': 0, 'y': 0.1, 'vx': 0.1, 'vy': 0},\n",
        "    'Satellite': {'time': 0, 'timeStep': 0.01, 'x': 0, 'y': 1, 'vx': 1, 'vy': 0},\n",
        "}\n",
        "\n",
        "def propagate(agentId, universe):\n",
        "    \"\"\"Propagate agentId from `time` to `time + timeStep`.\"\"\"\n",
        "    state = universe[agentId]\n",
        "    time, timeStep, x, y, vx, vy = state['time'], state['timeStep'], state['x'], state['y'], state['vx'], state['vy']\n",
        "\n",
        "    if agentId == 'Planet':\n",
        "        x += vx * timeStep\n",
        "        y += vy * timeStep\n",
        "    elif agentId == 'Satellite':\n",
        "        px, py = universe['Planet']['x'], universe['Planet']['y']\n",
        "        dx = px - x\n",
        "        dy = py - y\n",
        "        fx = dx / (dx**2 + dy**2)**(3/2)\n",
        "        fy = dy / (dx**2 + dy**2)**(3/2)\n",
        "        vx += fx * timeStep\n",
        "        vy += fy * timeStep\n",
        "        x += vx * timeStep\n",
        "        y += vy * timeStep\n",
        "\n",
        "    return {'time': time + timeStep, 'timeStep': 0.01+random()*0.09, 'x': x, 'y': y, 'vx': vx, 'vy': vy}\n"
      ]
    },
    {
      "cell_type": "code",
      "execution_count": null,
      "metadata": {},
      "outputs": [],
      "source": [
        "# DATA STRUCTURE\n",
        "\n",
        "class QRangeStore:\n",
        "    \"\"\"\n",
        "    A Q-Range KV Store mapping left-inclusive, right-exclusive ranges [low, high) to values.\n",
        "    Reading from the store returns the collection of values whose ranges contain the query.\n",
        "    ```\n",
        "    0  1  2  3  4  5  6  7  8  9\n",
        "    [A      )[B)            [E)\n",
        "    [C   )[D   )\n",
        "           ^       ^        ^  ^\n",
        "    ```\n",
        "    >>> store = QRangeStore()\n",
        "    >>> store[0, 3] = 'Record A'\n",
        "    >>> store[3, 4] = 'Record B'\n",
        "    >>> store[0, 2] = 'Record C'\n",
        "    >>> store[2, 4] = 'Record D'\n",
        "    >>> store[8, 9] = 'Record E'\n",
        "    >>> store[2, 0] = 'Record F'\n",
        "    Traceback (most recent call last):\n",
        "    IndexError: Invalid Range.\n",
        "    >>> store[2.1]\n",
        "    ['Record A', 'Record D']\n",
        "    >>> store[8]\n",
        "    ['Record E']\n",
        "    >>> store[5]\n",
        "    Traceback (most recent call last):\n",
        "    IndexError: Not found.\n",
        "    >>> store[9]\n",
        "    Traceback (most recent call last):\n",
        "    IndexError: Not found.\n",
        "    \"\"\"\n",
        "    def __init__(self): self.store = []\n",
        "    def __setitem__(self, rng, value): \n",
        "        (low, high) = rng\n",
        "        if not low < high: raise IndexError(\"Invalid Range.\")\n",
        "        self.store.append((low, high, value))\n",
        "    def __getitem__(self, key):\n",
        "        ret = [v for (l, h, v) in self.store if l <= key < h] \n",
        "        if not ret: raise IndexError(\"Not found.\")\n",
        "        return ret\n",
        "    \n",
        "doctest.testmod()"
      ]
    },
    {
      "cell_type": "code",
      "execution_count": null,
      "metadata": {},
      "outputs": [],
      "source": [
        "# SIMULATOR\n",
        "\n",
        "def read(t):\n",
        "    try:\n",
        "        data = store[t]\n",
        "    except IndexError:\n",
        "        data = []\n",
        "    return reduce(__or__, data, {})\n",
        "\n",
        "store = QRangeStore()\n",
        "store[-float('inf'), 0] = init\n",
        "times = {agentId: state['time'] for agentId, state in init.items()}\n",
        "\n",
        "for _ in range(500):\n",
        "    for agentId in init:\n",
        "        t = times[agentId]\n",
        "        universe = read(t-0.001)\n",
        "        if set(universe) == set(init):\n",
        "            newState = propagate(agentId, universe)\n",
        "            store[t, newState['time']] = {agentId: newState}\n",
        "            times[agentId] = newState['time']\n",
        "\n",
        "with open('data.js', 'w') as f:\n",
        "    f.write(f\"data = {json.dumps(store.store, indent=4)}\")"
      ]
    }
  ],
  "metadata": {
    "kernelspec": {
      "display_name": "Python 3",
      "language": "python",
      "name": "python3"
    },
    "language_info": {
      "codemirror_mode": {
        "name": "ipython",
        "version": 3
      },
      "file_extension": ".py",
      "mimetype": "text/x-python",
      "name": "python",
      "nbconvert_exporter": "python",
      "pygments_lexer": "ipython3",
      "version": "3.9.16"
    },
    "orig_nbformat": 4,
    "vscode": {
      "interpreter": {
        "hash": "31f2aee4e71d21fbe5cf8b01ff0e069b9275f58929596ceb00d14d90e3e16cd6"
      }
    }
  },
  "nbformat": 4,
  "nbformat_minor": 2
}
